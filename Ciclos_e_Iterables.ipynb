{
  "nbformat": 4,
  "nbformat_minor": 0,
  "metadata": {
    "colab": {
      "name": "Ciclos e Iterables.ipynb",
      "provenance": [],
      "collapsed_sections": [],
      "authorship_tag": "ABX9TyNUnsah8kYsVM9Jueo+Pyfa",
      "include_colab_link": true
    },
    "kernelspec": {
      "name": "python3",
      "display_name": "Python 3"
    },
    "language_info": {
      "name": "python"
    }
  },
  "cells": [
    {
      "cell_type": "markdown",
      "metadata": {
        "id": "view-in-github",
        "colab_type": "text"
      },
      "source": [
        "<a href=\"https://colab.research.google.com/github/liliarojas-profe/ejercicios-clase/blob/master/Ciclos_e_Iterables.ipynb\" target=\"_parent\"><img src=\"https://colab.research.google.com/assets/colab-badge.svg\" alt=\"Open In Colab\"/></a>"
      ]
    },
    {
      "cell_type": "markdown",
      "metadata": {
        "id": "VTRW54e0KwQX"
      },
      "source": [
        "#**Ciclos**\n"
      ]
    },
    {
      "cell_type": "markdown",
      "metadata": {
        "id": "xCK8Gg9qc9iC"
      },
      "source": [
        "Los ciclos nos permiten ejecutar un pedazo de código muchas veces. En Python existen 2 tipos de ciclos, `while` y `for`. Ambos sirven para ejecutar una acción varias veces, dependiendo del valor de una condición, pero la decisión de usar uno u otro dependerá de la evaluación que hagamos de cada problema.\n",
        "\n",
        "Otro concepto importante es la diferencia entre bucles ***definidos*** e ***indefinidos***. La diferencia recae en que el definido tiene una ***condición para que termine el ciclo, puesto que sino nunca se acabaría, siendo infinito***. Así que si un bucle es indefinido, significa que no tiene una condición para que termine, por lo tanto nunca dejará de ejecutarse."
      ]
    },
    {
      "cell_type": "markdown",
      "metadata": {
        "id": "gy1tHaH290M5"
      },
      "source": [
        "###While"
      ]
    },
    {
      "cell_type": "markdown",
      "metadata": {
        "id": "kAIGkhNm9_X4"
      },
      "source": [
        "While significa \"Mientras\", quiere decir que hay una acción que se ejecutará mientras se cumpla una condición.\n",
        "\n",
        "La condición del bucle se evalúa al principio, antes de entrar\n",
        "en él. Si la condición es verdadera, comenzamos a ejecutar las\n",
        "acciones del bucle y después de la última volvemos a preguntar\n",
        "por la condición. Usaremos obligatoriamente este tipo de bucle\n",
        "en el caso de que exista la posibilidad de que el bucle pueda\n",
        "ejecutarse 0 veces."
      ]
    },
    {
      "cell_type": "code",
      "metadata": {
        "id": "7gtvMe7R-Blf"
      },
      "source": [
        "#while\n",
        "contador = 0\n",
        "while contador < 5:\n",
        "    print(contador)\n",
        "    contador += 1"
      ],
      "execution_count": null,
      "outputs": []
    },
    {
      "cell_type": "markdown",
      "metadata": {
        "id": "MLj5sb_4L5Gn"
      },
      "source": [
        "###For"
      ]
    },
    {
      "cell_type": "markdown",
      "metadata": {
        "id": "ktYR_1ZHCzNs"
      },
      "source": [
        "Este tipo de bucles se utiliza cuando se sabe ya antes de ejecutar el bucle el número exacto de veces que hay que ejecutarlo. El ciclo for es especial, porque puede sustituir tranquilamente al while y es más cómo de utilizar en muchas ocasiones. Su estructura es la siguiente: se crea una variable, la cual debe recorrer una variable o un tipo de dato."
      ]
    },
    {
      "cell_type": "code",
      "metadata": {
        "colab": {
          "base_uri": "https://localhost:8080/"
        },
        "id": "NhwVqPnDFIaA",
        "outputId": "96b8198b-9ec0-404e-b708-74382eaab0df"
      },
      "source": [
        "#For\n",
        "dinero_disponible = 10\n",
        "for i in range(11):\n",
        "    if dinero_disponible == 0:\n",
        "        print(\"No hay dinero disponible.\")\n",
        "        break\n",
        "\n",
        "    print(dinero_disponible)\n",
        "    dinero_disponible -= 1"
      ],
      "execution_count": null,
      "outputs": [
        {
          "output_type": "stream",
          "text": [
            "10\n",
            "9\n",
            "8\n",
            "7\n",
            "6\n",
            "5\n",
            "4\n",
            "3\n",
            "2\n",
            "1\n",
            "No hay dinero disponible.\n"
          ],
          "name": "stdout"
        }
      ]
    },
    {
      "cell_type": "markdown",
      "metadata": {
        "id": "TCUt6fpSC9lQ"
      },
      "source": [
        "  *En este ejemplo, la variable _`i`_ es la que recorrerá el ciclo. Luego en (_`in`_) el **rango** (_`range`_: tipo de dato) que se le especifique será lo que recorra la variable. Acá el rango es de _`11`_, por lo tanto **hará 11 ciclos**.*"
      ]
    },
    {
      "cell_type": "markdown",
      "metadata": {
        "id": "LzvZrc43rQyx"
      },
      "source": [
        "FOR: LA FUNCIÓN range() CON VARIOS ARGUMENTOS"
      ]
    },
    {
      "cell_type": "markdown",
      "metadata": {
        "id": "srkPQI55rSF4"
      },
      "source": [
        "La función range() también puede aceptar tres argumentos: Echa un vistazo al código del editor.\n",
        "\n",
        "El tercer argumento es un incremento: es un valor agregado para controlar la variable en cada giro del ciclo (como puedes sospechar, el valor predeterminado del incremento es 1 ).\n",
        "\n",
        "¿Puedes decirnos cuántas líneas aparecerán en la consola y qué valores contendrán?\n",
        "\n",
        "Ejecuta el programa para averiguar si tenías razón.\n",
        "\n"
      ]
    },
    {
      "cell_type": "code",
      "metadata": {
        "id": "l4CHwUskn7EJ"
      },
      "source": [
        "for i in range(2, 8, 3):\n",
        "    print(\"El valor de i es actualmente\", i)"
      ],
      "execution_count": null,
      "outputs": []
    },
    {
      "cell_type": "markdown",
      "metadata": {
        "id": "9UWYpoCTrgkQ"
      },
      "source": [
        "Deberías poder ver las siguientes líneas en la ventana de la consola:\n",
        "\n",
        "    El valor de i es actualmente 2\n",
        "    El valor de i es actualmente 5 "
      ]
    },
    {
      "cell_type": "markdown",
      "metadata": {
        "id": "lJA-5KTCrrOZ"
      },
      "source": [
        "¿Sabes por qué? El primer argumento pasado a la función range() nos dice cual es el número de inicio de la secuencia (por lo tanto, 2 en la salida). El segundo argumento le dice a la función dónde detener la secuencia (la función genera números hasta el número indicado por el segundo argumento, pero no lo incluye). Finalmente, el tercer argumento indica el paso, que en realidad significa la diferencia entre cada número en la secuencia de números generados por la función.\n",
        "\n",
        "2(número inicial) → 5 (2 incremento por 3 es igual a 5 - el número está dentro del rango de 2 a 8) → 8 (5 incremento por 3 es igual a 8 - el número no está dentro del rango de 2 a 8, porque el parámetro de parada no está incluido en la secuencia de números generados por la función)."
      ]
    },
    {
      "cell_type": "markdown",
      "metadata": {
        "id": "HiyTugMYrsOY"
      },
      "source": [
        "Nota 1: si el conjunto generado por la función range() está vacío, el ciclo no ejecutará su cuerpo en absoluto.\n",
        "\n",
        "Al igual que aquí, no habrá salida:\n",
        "\n",
        "      for i in range(1, 1):\n",
        "          print(\"El valor de i es actualmente\", i) "
      ]
    },
    {
      "cell_type": "markdown",
      "metadata": {
        "id": "jFZffq9asD5Y"
      },
      "source": [
        "Nota 2: el conjunto generado por range() debe ordenarse en un orden ascendente. No hay forma de forzar el range() para crear un conjunto en una forma diferente. Esto significa que el segundo argumento de range() debe ser mayor que el primero.\n",
        "\n",
        "Por lo tanto, tampoco habrá salida aquí:\n",
        "\n",
        "    for i in range(2, 1):"
      ]
    },
    {
      "cell_type": "markdown",
      "metadata": {
        "id": "5_ddD8XTsGhx"
      },
      "source": [
        "Echemos un vistazo a un programa corto cuya tarea es escribir algunas de las primeras potencias de dos:\n",
        "\n",
        "    pow = 1\n",
        "    for exp in range(16):\n",
        "        print (\"2 a la potencia de\", exp, \"es\", pow)\n",
        "        pow * = 2 \n",
        "\n",
        "La variable exp se utiliza como una variable de control para el ciclo e indica el valor actual del exponente. La propia exponenciación se sustituye multiplicando por dos. Dado que 2 0 es igual a 1, después 2 × 1 es igual a 21, 2 × 21 es igual a 22, y así sucesivamente. ¿Cuál es el máximo exponente para el cual nuestro programa aún imprime el resultado?\n",
        "\n",
        "Ejecuta el código y verifica si la salida coincide con tus expectativas."
      ]
    },
    {
      "cell_type": "code",
      "metadata": {
        "id": "Ab84wkgxsQvB"
      },
      "source": [
        "pow = 1\n",
        "for exp in range(16):\n",
        "    print (\"2 a la potencia de\", exp, \"es\", pow)\n",
        "    pow *= 2"
      ],
      "execution_count": null,
      "outputs": []
    },
    {
      "cell_type": "markdown",
      "metadata": {
        "id": "oEW2npE_DGXJ"
      },
      "source": [
        "###Ciclos infinitos"
      ]
    },
    {
      "cell_type": "code",
      "metadata": {
        "colab": {
          "base_uri": "https://localhost:8080/"
        },
        "id": "VL1xkmgQdTPa",
        "outputId": "4503fa8d-9ed2-404b-b685-a7e238122db5"
      },
      "source": [
        "#ciclos infinitos\n",
        "\"\"\"\n",
        "conteo = 0\n",
        "\n",
        "while conteo == 0:\n",
        "    print(\"Esto es un ciclo infinito\") \n",
        "\"\"\"\n",
        "#conteo nunca incrementa su valor\n",
        "print(\"Este ciclo es infinito, porque la condición siempre se cumplirá.\")"
      ],
      "execution_count": null,
      "outputs": [
        {
          "output_type": "stream",
          "text": [
            "Este ciclo es infinito, porque la condición siempre se cumplirá.\n"
          ],
          "name": "stdout"
        }
      ]
    },
    {
      "cell_type": "markdown",
      "metadata": {
        "id": "i6ca94MwDNMJ"
      },
      "source": [
        "###Ciclos anidados"
      ]
    },
    {
      "cell_type": "markdown",
      "metadata": {
        "id": "Lp0AWcgGfUob"
      },
      "source": [
        "Al igual que en las condiciones, podemos meter ciclos dentro de otros ciclos."
      ]
    },
    {
      "cell_type": "code",
      "metadata": {
        "id": "ouXrZMc7fYKF"
      },
      "source": [
        "contador_externo = 0\n",
        "contador_interno = 0\n",
        "\n",
        "while contador_externo < 5:\n",
        "    while contador_interno < 6:\n",
        "        print(contador_externo, contador_interno)\n",
        "        contador_interno += 1\n",
        "\n",
        "        if contador_interno >= 3:\n",
        "            break\n",
        "\n",
        "    contador_externo += 1\n",
        "    contador_interno = 0"
      ],
      "execution_count": null,
      "outputs": []
    },
    {
      "cell_type": "markdown",
      "metadata": {
        "id": "5S8e32YR3cJa"
      },
      "source": [
        "#**Iterables**"
      ]
    },
    {
      "cell_type": "markdown",
      "metadata": {
        "id": "5nfKDCEm3g-L"
      },
      "source": [
        "Los iterables son ***esos objetos que podemos recorrer con un ciclo***. Podemos verificar que el tipo de objeto es iterable si lo pasamos por el método `iter()`:"
      ]
    },
    {
      "cell_type": "code",
      "metadata": {
        "id": "6Ff3yUSW3vO2"
      },
      "source": [
        "print(iter('cadena')) #cadena\n",
        "print(iter(['a', 'b', 'c'])) #lista\n",
        "print(iter(('a', 'b', 'c'))) #tupla\n",
        "print(iter({'a', 'b', 'c'})) #conjunto\n",
        "print(iter({'a': 1, 'b': 2, 'c': 3})) #diccionario"
      ],
      "execution_count": null,
      "outputs": []
    },
    {
      "cell_type": "markdown",
      "metadata": {
        "id": "nTonO3BXFYKa"
      },
      "source": [
        "**Pregunta:**¿Qué diferencias ves entre los iterables? ¿Cuáles son sus características? ¿Qué usos crees que pueden tener?"
      ]
    },
    {
      "cell_type": "markdown",
      "metadata": {
        "id": "-krHKZPQ4EWv"
      },
      "source": [
        "  *Los resultados que nos arrojan significa que sí son iterables los objetos que le pasamos como parámetro al método `iter()`. Por ejemplo, en la primera línea le pasamos un **string** y nos devuelvee `str_iterator`, o sea, que el tipo de objeto es iterable.*"
      ]
    },
    {
      "cell_type": "markdown",
      "metadata": {
        "id": "OxK-B0-T4viy"
      },
      "source": [
        "**Veamos qué ocurrer si le pasamos un objeto qué no es un iterable:**"
      ]
    },
    {
      "cell_type": "code",
      "metadata": {
        "colab": {
          "base_uri": "https://localhost:8080/",
          "height": 165
        },
        "id": "AGTgfx6945Sq",
        "outputId": "058ed821-3fdf-4691-ee58-3c68da2b85bc"
      },
      "source": [
        "print(iter(2))"
      ],
      "execution_count": null,
      "outputs": [
        {
          "output_type": "error",
          "ename": "TypeError",
          "evalue": "ignored",
          "traceback": [
            "\u001b[0;31m---------------------------------------------------------------------------\u001b[0m",
            "\u001b[0;31mTypeError\u001b[0m                                 Traceback (most recent call last)",
            "\u001b[0;32m<ipython-input-59-348f159b1dff>\u001b[0m in \u001b[0;36m<module>\u001b[0;34m()\u001b[0m\n\u001b[0;32m----> 1\u001b[0;31m \u001b[0mprint\u001b[0m\u001b[0;34m(\u001b[0m\u001b[0miter\u001b[0m\u001b[0;34m(\u001b[0m\u001b[0;36m2\u001b[0m\u001b[0;34m)\u001b[0m\u001b[0;34m)\u001b[0m\u001b[0;34m\u001b[0m\u001b[0;34m\u001b[0m\u001b[0m\n\u001b[0m",
            "\u001b[0;31mTypeError\u001b[0m: 'int' object is not iterable"
          ]
        }
      ]
    },
    {
      "cell_type": "markdown",
      "metadata": {
        "id": "wmIYUYLQ5BNk"
      },
      "source": [
        "**Ahora veamos qué pasa con un objeto que SÍ es iterable, ¿Qué podemos hacer con él? Un `iterator`/`iterable` es un objeto que regresa sucesivamente los valores asociados con el iterable:**"
      ]
    },
    {
      "cell_type": "code",
      "metadata": {
        "id": "Vx51jygC5yN8"
      },
      "source": [
        "frutas = ['manzana', 'pera', 'mango']\n",
        "print(frutas)\n",
        "\n",
        "iterador = iter(frutas)\n",
        "\n",
        "print(next(iterador))\n",
        "print(next(iterador))\n",
        "print(next(iterador))"
      ],
      "execution_count": null,
      "outputs": []
    },
    {
      "cell_type": "markdown",
      "metadata": {
        "id": "S1ikaHvU6C17"
      },
      "source": [
        "_Como puedes ver, el `iterator` guarda el estado interno de la iteración, de tal manera que cada llamada sucesiva a `next` regresa el siguiente elemento. ¿Qué pasa una vez que ya no existan más elementos en el `iterable`? La llamada\n",
        "a `next` arrojará un error de tipo `StopIteration`._"
      ]
    },
    {
      "cell_type": "code",
      "metadata": {
        "colab": {
          "base_uri": "https://localhost:8080/",
          "height": 267
        },
        "id": "1yK1nvHl6RIe",
        "outputId": "d0a4feda-7bae-4cb4-9c80-2939b693a3e4"
      },
      "source": [
        "frutas = ['manzana', 'pera', 'mango']\n",
        "print(frutas)\n",
        "\n",
        "iterador = iter(frutas)\n",
        "\n",
        "print(next(iterador))\n",
        "print(next(iterador))\n",
        "print(next(iterador))\n",
        "print(next(iterador)) #StopIteration"
      ],
      "execution_count": null,
      "outputs": [
        {
          "output_type": "stream",
          "text": [
            "['manzana', 'pera', 'mango']\n",
            "manzana\n",
            "pera\n",
            "mango\n"
          ],
          "name": "stdout"
        },
        {
          "output_type": "error",
          "ename": "StopIteration",
          "evalue": "ignored",
          "traceback": [
            "\u001b[0;31m---------------------------------------------------------------------------\u001b[0m",
            "\u001b[0;31mStopIteration\u001b[0m                             Traceback (most recent call last)",
            "\u001b[0;32m<ipython-input-65-123868fdbf53>\u001b[0m in \u001b[0;36m<module>\u001b[0;34m()\u001b[0m\n\u001b[1;32m      7\u001b[0m \u001b[0mprint\u001b[0m\u001b[0;34m(\u001b[0m\u001b[0mnext\u001b[0m\u001b[0;34m(\u001b[0m\u001b[0miterador\u001b[0m\u001b[0;34m)\u001b[0m\u001b[0;34m)\u001b[0m\u001b[0;34m\u001b[0m\u001b[0;34m\u001b[0m\u001b[0m\n\u001b[1;32m      8\u001b[0m \u001b[0mprint\u001b[0m\u001b[0;34m(\u001b[0m\u001b[0mnext\u001b[0m\u001b[0;34m(\u001b[0m\u001b[0miterador\u001b[0m\u001b[0;34m)\u001b[0m\u001b[0;34m)\u001b[0m\u001b[0;34m\u001b[0m\u001b[0;34m\u001b[0m\u001b[0m\n\u001b[0;32m----> 9\u001b[0;31m \u001b[0mprint\u001b[0m\u001b[0;34m(\u001b[0m\u001b[0mnext\u001b[0m\u001b[0;34m(\u001b[0m\u001b[0miterador\u001b[0m\u001b[0;34m)\u001b[0m\u001b[0;34m)\u001b[0m \u001b[0;31m#StopIteration\u001b[0m\u001b[0;34m\u001b[0m\u001b[0;34m\u001b[0m\u001b[0m\n\u001b[0m",
            "\u001b[0;31mStopIteration\u001b[0m: "
          ]
        }
      ]
    },
    {
      "cell_type": "markdown",
      "metadata": {
        "id": "5ij6EqCS6neK"
      },
      "source": [
        "###**Recorrer iterables con for**"
      ]
    },
    {
      "cell_type": "markdown",
      "metadata": {
        "id": "TDkjNOSJ6rYW"
      },
      "source": [
        "Podemos hacer lo mismo que hicimos antes con los métodos `iter` y `next`, pero con el ciclo for:"
      ]
    },
    {
      "cell_type": "code",
      "metadata": {
        "colab": {
          "base_uri": "https://localhost:8080/"
        },
        "id": "OgpQDgtu6zpv",
        "outputId": "9193d3fa-4bbd-40e5-ebfe-11b7f239c399"
      },
      "source": [
        "frutas = ['manzana', 'pera', 'mango']\n",
        "for fruta in frutas:\n",
        "        print(fruta)"
      ],
      "execution_count": null,
      "outputs": [
        {
          "output_type": "stream",
          "text": [
            "manzana\n",
            "pera\n",
            "mango\n"
          ],
          "name": "stdout"
        }
      ]
    },
    {
      "cell_type": "markdown",
      "metadata": {
        "id": "qnn6qUIi65EJ"
      },
      "source": [
        "Este bucle se puede describir con los conceptos que explicamos previamente:\n",
        "\n",
        "**1) Python llama internamente la función `iter` para obtener un `iterator`.**\n",
        "\n",
        "**2) Una vez que tiene un `iterator` llama repetidamente la función `next` para tener acceso al siguiente elemento en el bucle.**\n",
        "\n",
        "**3) Detiene el bucle una vez que se arroja el error `StopIteration`.**"
      ]
    },
    {
      "cell_type": "markdown",
      "metadata": {
        "id": "9kXH600S7FmU"
      },
      "source": [
        "###Recorrer diccionarios con for"
      ]
    },
    {
      "cell_type": "markdown",
      "metadata": {
        "id": "30aJk5nQ7S7K"
      },
      "source": [
        "Podemos ejecutar el ciclo for en el tipo de dato diccionarios, pero debemos utilizar métodos a la vez:"
      ]
    },
    {
      "cell_type": "code",
      "metadata": {
        "colab": {
          "base_uri": "https://localhost:8080/"
        },
        "id": "9Aiueiq57bNE",
        "outputId": "c649aa51-77bc-4a02-ce18-7a17f1117738"
      },
      "source": [
        "estudiantes = {\n",
        "    'México': 10,\n",
        "    'Colombia': 15,\n",
        "    'Argentina': 9,\n",
        "}\n",
        "\n",
        "for pais in estudiantes:\n",
        "    print(pais)\n",
        "\n",
        "for pais in estudiantes.keys():\n",
        "    print(pais)\n",
        "\n",
        "#los primeros 2 ciclos for hacen exactamente lo mismo. La diferencia está en qué el segundo utilizamos un método que recorre explícitamente las llaves.\n",
        "\n",
        "for numero_de_estudiantes in estudiantes.values():\n",
        "  print(numero_de_estudiantes)\n",
        "\n",
        "#values() recorre solo los valores de las llaves\n",
        "\n",
        "for pais, numero_de_estudiantes in estudiantes.items():\n",
        "  print(f'{pais}: {numero_de_estudiantes}')\n",
        "#items() recorre las llaves y sus valores, o sea, ambos."
      ],
      "execution_count": null,
      "outputs": [
        {
          "output_type": "stream",
          "text": [
            "México\n",
            "Colombia\n",
            "Argentina\n",
            "México\n",
            "Colombia\n",
            "Argentina\n",
            "10\n",
            "15\n",
            "9\n",
            "México: 10\n",
            "Colombia: 15\n",
            "Argentina: 9\n"
          ],
          "name": "stdout"
        }
      ]
    },
    {
      "cell_type": "markdown",
      "metadata": {
        "id": "fvWhFLzs8Q2S"
      },
      "source": [
        "##`break` y `continue`"
      ]
    },
    {
      "cell_type": "markdown",
      "metadata": {
        "id": "8PHhS59OAM3j"
      },
      "source": [
        "Estas 2 palabras nos permiten modificar el comportamiento de un ciclo, ya sea for o while. Cada una cumple funciones distintas:\n",
        "-  `break`: Termina el bucle y permite continuar con el resto del flujo de nuestro programa. Esto se utiliza para que el ciclo acabe.\n",
        "\n",
        "- `continue`: Termina la iteración en curso y continua con el siguiente ciclo de\n",
        "iteración.\n",
        "\n",
        "Ahora, veamos sus usos:\n",
        "\n"
      ]
    },
    {
      "cell_type": "markdown",
      "metadata": {
        "id": "egixe3nlBcJa"
      },
      "source": [
        "###**`break`**"
      ]
    },
    {
      "cell_type": "code",
      "metadata": {
        "colab": {
          "base_uri": "https://localhost:8080/"
        },
        "id": "z77sE6N1AwtE",
        "outputId": "aa33c3d2-89a1-442a-930d-44c7aaf28236"
      },
      "source": [
        "#break\n",
        "string = input(\"Ingresa un string: \")\n",
        "\n",
        "for letra in string:\n",
        "  if letra == 'ñ' or letra == 'Ñ':\n",
        "    break #si alguna de las letras del string es la 'Ñ', entonces termina el ciclo.\n",
        "  print(letra)"
      ],
      "execution_count": null,
      "outputs": [
        {
          "output_type": "stream",
          "text": [
            "Ingresa un string: niño\n",
            "n\n",
            "i\n"
          ],
          "name": "stdout"
        }
      ]
    },
    {
      "cell_type": "markdown",
      "metadata": {
        "id": "aIvGq4SXBSwL"
      },
      "source": [
        "  *No se imprimieron las letras del string.*"
      ]
    },
    {
      "cell_type": "markdown",
      "metadata": {
        "id": "j-mCuJo3BYTM"
      },
      "source": [
        "###**`continue`**"
      ]
    },
    {
      "cell_type": "code",
      "metadata": {
        "colab": {
          "base_uri": "https://localhost:8080/"
        },
        "id": "9Pk4P1PNBnbG",
        "outputId": "9d3ba212-4b27-4ee8-c346-1081396ddbd1"
      },
      "source": [
        "nombre = \"Åke\"\n",
        "\n",
        "for caracter in nombre:\n",
        "  if caracter == 'Å':\n",
        "    continue\n",
        "  print(caracter)"
      ],
      "execution_count": null,
      "outputs": [
        {
          "output_type": "stream",
          "text": [
            "k\n",
            "e\n"
          ],
          "name": "stdout"
        }
      ]
    },
    {
      "cell_type": "markdown",
      "metadata": {
        "id": "tNlquGubCnN5"
      },
      "source": [
        "  *El ciclo no dejó de ejecutarse, sino que el ciclo volvió al principio al cumplirse la condición, por lo que solo imprime los caracteres que no cumplan en la condición.*\n"
      ]
    }
  ]
}